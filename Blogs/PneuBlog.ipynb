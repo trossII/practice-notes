{
 "cells": [
  {
   "cell_type": "code",
   "execution_count": 1,
   "metadata": {},
   "outputs": [
    {
     "name": "stderr",
     "output_type": "stream",
     "text": [
      "Using TensorFlow backend.\n"
     ]
    }
   ],
   "source": [
    "from __future__ import absolute_import, division, print_function, unicode_literals\n",
    "import os\n",
    "from matplotlib import pyplot as plt\n",
    "import numpy as np\n",
    "from sklearn.model_selection import train_test_split\n",
    "from sklearn import metrics\n",
    "from sklearn.preprocessing import StandardScaler\n",
    "%matplotlib inline\n",
    "\n",
    "import tensorflow as tf\n",
    "from tensorflow import keras\n",
    "import matplotlib.image as mpimg\n",
    "from keras import Sequential\n",
    "from keras.layers import Conv2D,Dense,MaxPooling2D,BatchNormalization,Flatten,Dropout\n",
    "from keras.optimizers import Adam, SGD\n",
    "from keras.callbacks import EarlyStopping"
   ]
  },
  {
   "cell_type": "code",
   "execution_count": 6,
   "metadata": {},
   "outputs": [],
   "source": [
    "base_dir, _ = os.path.splitext(\"../../Downloads/chest_xray\")"
   ]
  },
  {
   "cell_type": "code",
   "execution_count": 7,
   "metadata": {},
   "outputs": [
    {
     "name": "stdout",
     "output_type": "stream",
     "text": [
      "Total training normal images: 1341\n",
      "Total training pneu images: 3875\n",
      "Total validation normal images: 8\n",
      "Total validation pneu images: 8\n",
      "Total test normal images: 234\n",
      "Total test pneu images: 390\n"
     ]
    }
   ],
   "source": [
    "train_dir = os.path.join(base_dir, 'train')\n",
    "validation_dir = os.path.join(base_dir, 'val')\n",
    "\n",
    "train_normal = os.path.join(train_dir, 'NORMAL')\n",
    "print ('Total training normal images:', len(os.listdir(train_normal)))\n",
    "train_pneu = os.path.join(train_dir, 'PNEUMONIA')\n",
    "print ('Total training pneu images:', len(os.listdir(train_pneu)))\n",
    "\n",
    "val_normal = os.path.join(validation_dir, 'NORMAL')\n",
    "print ('Total validation normal images:', len(os.listdir(val_normal)))\n",
    "val_pneu = os.path.join(validation_dir, 'PNEUMONIA')\n",
    "print ('Total validation pneu images:', len(os.listdir(val_pneu)))\n",
    "\n",
    "test_dir = os.path.join(base_dir,'test')\n",
    "test_normal = os.path.join(test_dir, 'NORMAL')\n",
    "print ('Total test normal images:', len(os.listdir(test_normal)))\n",
    "test_pneu = os.path.join(test_dir, 'PNEUMONIA')\n",
    "print ('Total test pneu images:', len(os.listdir(test_pneu)))"
   ]
  },
  {
   "cell_type": "code",
   "execution_count": null,
   "metadata": {},
   "outputs": [],
   "source": []
  }
 ],
 "metadata": {
  "kernelspec": {
   "display_name": "Python 3",
   "language": "python",
   "name": "python3"
  },
  "language_info": {
   "codemirror_mode": {
    "name": "ipython",
    "version": 3
   },
   "file_extension": ".py",
   "mimetype": "text/x-python",
   "name": "python",
   "nbconvert_exporter": "python",
   "pygments_lexer": "ipython3",
   "version": "3.7.4"
  }
 },
 "nbformat": 4,
 "nbformat_minor": 4
}
