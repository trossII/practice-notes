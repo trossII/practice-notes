{
 "cells": [
  {
   "cell_type": "code",
   "execution_count": 1,
   "metadata": {},
   "outputs": [
    {
     "name": "stderr",
     "output_type": "stream",
     "text": [
      "Using TensorFlow backend.\n"
     ]
    }
   ],
   "source": [
    "from __future__ import absolute_import, division, print_function, unicode_literals\n",
    "import os\n",
    "from matplotlib import pyplot as plt\n",
    "import numpy as np\n",
    "from sklearn.model_selection import train_test_split\n",
    "from sklearn import metrics\n",
    "from sklearn.preprocessing import StandardScaler\n",
    "%matplotlib inline\n",
    "\n",
    "import tensorflow as tf\n",
    "from tensorflow import keras\n",
    "from tensorflow.keras.models import load_model\n",
    "import matplotlib.image as mpimg\n",
    "from keras import Sequential\n",
    "from keras.layers import Conv2D,Dense,MaxPooling2D,BatchNormalization,Flatten,Dropout\n",
    "from keras.optimizers import Adam, SGD\n",
    "from keras.callbacks import EarlyStopping, ModelCheckpoint"
   ]
  },
  {
   "cell_type": "code",
   "execution_count": 2,
   "metadata": {},
   "outputs": [],
   "source": [
    "base_dir, _ = os.path.splitext(\"../../Downloads/chest_xray\")"
   ]
  },
  {
   "cell_type": "code",
   "execution_count": 3,
   "metadata": {},
   "outputs": [
    {
     "name": "stdout",
     "output_type": "stream",
     "text": [
      "Total training normal images: 1341\n",
      "Total training pneu images: 3875\n",
      "Total validation normal images: 8\n",
      "Total validation pneu images: 8\n",
      "Total test normal images: 234\n",
      "Total test pneu images: 390\n"
     ]
    }
   ],
   "source": [
    "train_dir = os.path.join(base_dir, 'train')\n",
    "validation_dir = os.path.join(base_dir, 'val')\n",
    "\n",
    "train_normal = os.path.join(train_dir, 'NORMAL')\n",
    "print ('Total training normal images:', len(os.listdir(train_normal)))\n",
    "train_pneu = os.path.join(train_dir, 'PNEUMONIA')\n",
    "print ('Total training pneu images:', len(os.listdir(train_pneu)))\n",
    "\n",
    "val_normal = os.path.join(validation_dir, 'NORMAL')\n",
    "print ('Total validation normal images:', len(os.listdir(val_normal)))\n",
    "val_pneu = os.path.join(validation_dir, 'PNEUMONIA')\n",
    "print ('Total validation pneu images:', len(os.listdir(val_pneu)))\n",
    "\n",
    "test_dir = os.path.join(base_dir,'test')\n",
    "test_normal = os.path.join(test_dir, 'NORMAL')\n",
    "print ('Total test normal images:', len(os.listdir(test_normal)))\n",
    "test_pneu = os.path.join(test_dir, 'PNEUMONIA')\n",
    "print ('Total test pneu images:', len(os.listdir(test_pneu)))"
   ]
  },
  {
   "cell_type": "code",
   "execution_count": 4,
   "metadata": {},
   "outputs": [
    {
     "data": {
      "text/plain": [
       "{0: 1.9448173005219984, 1: 0.6730322580645162}"
      ]
     },
     "execution_count": 4,
     "metadata": {},
     "output_type": "execute_result"
    }
   ],
   "source": [
    "weight_norm = (1 / len(os.listdir(train_normal)))*(len(os.listdir(train_normal))+len(os.listdir(train_pneu)))/2.0 \n",
    "weight_pneu = (1 / len(os.listdir(train_pneu)))*(len(os.listdir(train_normal))+len(os.listdir(train_pneu)))/2.0\n",
    "class_weight = {0: weight_norm, 1: weight_pneu}\n",
    "class_weight"
   ]
  },
  {
   "cell_type": "code",
   "execution_count": 7,
   "metadata": {},
   "outputs": [
    {
     "name": "stdout",
     "output_type": "stream",
     "text": [
      "Found 5216 images belonging to 2 classes.\n",
      "Found 16 images belonging to 2 classes.\n",
      "Found 624 images belonging to 2 classes.\n"
     ]
    }
   ],
   "source": [
    "image_size = 224 # All images will be resized to 160x160\n",
    "batch_size = 64\n",
    "\n",
    "# Rescale all images by 1./255 and apply image augmentation\n",
    "train_datagen = keras.preprocessing.image.ImageDataGenerator(rescale=1./255)\n",
    "\n",
    "validation_datagen = keras.preprocessing.image.ImageDataGenerator(rescale=1./255)\n",
    "test_datagen = keras.preprocessing.image.ImageDataGenerator(rescale=1./255)\n",
    "\n",
    "# Flow training images in batches of 20 using train_datagen generator\n",
    "train_generator = train_datagen.flow_from_directory(\n",
    "                train_dir,  # Source directory for the training images\n",
    "                target_size=(image_size, image_size),\n",
    "                batch_size=batch_size,\n",
    "                # Since we use binary_crossentropy loss, we need binary labels\n",
    "                class_mode='binary')\n",
    "\n",
    "# Flow validation images in batches of 20 using test_datagen generator\n",
    "validation_generator = validation_datagen.flow_from_directory(\n",
    "                validation_dir, # Source directory for the validation images\n",
    "                target_size=(image_size, image_size),\n",
    "                batch_size=batch_size,\n",
    "                class_mode='binary')\n",
    "\n",
    "# Flow validation images in batches of 20 using test_datagen generator\n",
    "test_generator = test_datagen.flow_from_directory(\n",
    "                test_dir, # Source directory for the validation images\n",
    "                target_size=(image_size, image_size),\n",
    "                batch_size=batch_size,\n",
    "                class_mode='binary',\n",
    "                shuffle=False)"
   ]
  },
  {
   "cell_type": "code",
   "execution_count": 6,
   "metadata": {},
   "outputs": [
    {
     "name": "stdout",
     "output_type": "stream",
     "text": [
      "WARNING:tensorflow:From /opt/anaconda3/lib/python3.7/site-packages/tensorflow_core/python/ops/resource_variable_ops.py:1630: calling BaseResourceVariable.__init__ (from tensorflow.python.ops.resource_variable_ops) with constraint is deprecated and will be removed in a future version.\n",
      "Instructions for updating:\n",
      "If using Keras pass *_constraint arguments to layers.\n",
      "Number of layers in the base model:  155\n"
     ]
    }
   ],
   "source": []
  },
  {
   "cell_type": "code",
   "execution_count": null,
   "metadata": {},
   "outputs": [],
   "source": []
  },
  {
   "cell_type": "code",
   "execution_count": null,
   "metadata": {},
   "outputs": [],
   "source": []
  },
  {
   "cell_type": "code",
   "execution_count": null,
   "metadata": {},
   "outputs": [],
   "source": [
    "model = tf.keras.Sequential([\n",
    "  base_model,\n",
    "  keras.layers.GlobalAveragePooling2D(),\n",
    "  keras.layers.Dropout(.3),\n",
    "  keras.layers.Dense(1, activation='sigmoid')\n",
    "    \n",
    "])"
   ]
  },
  {
   "cell_type": "code",
   "execution_count": null,
   "metadata": {},
   "outputs": [],
   "source": [
    "model2 = Sequential()"
   ]
  },
  {
   "cell_type": "code",
   "execution_count": null,
   "metadata": {},
   "outputs": [],
   "source": [
    "model2.add(Conv2D(32, kernel_size = (3, 3), activation='relu', input_shape=(image_size, image_size, 3)))\n",
    "model2.add(MaxPooling2D(pool_size=(2,2)))\n",
    "model2.add(BatchNormalization())\n",
    "\n",
    "model2.add(Conv2D(64, kernel_size=(3,3), activation='relu'))\n",
    "model2.add(MaxPooling2D(pool_size=(2,2)))\n",
    "model2.add(BatchNormalization())\n",
    "\n",
    "model2.add(Conv2D(64, kernel_size=(3,3), activation='relu'))\n",
    "model2.add(MaxPooling2D(pool_size=(2,2)))\n",
    "model2.add(BatchNormalization())\n",
    "\n",
    "\n",
    "model2.add(Conv2D(96, kernel_size=(3,3), activation='relu'))\n",
    "model2.add(MaxPooling2D(pool_size=(2,2)))\n",
    "model2.add(BatchNormalization())\n",
    "model2.add(Dropout(.3))\n",
    "\n",
    "\n",
    "model2.add(Conv2D(32, kernel_size=(3,3), activation='relu'))\n",
    "model2.add(MaxPooling2D(pool_size=(2,2)))\n",
    "model2.add(BatchNormalization())\n",
    "model2.add(Dropout(0.4))\n",
    "\n",
    "model2.add(Flatten())\n",
    "model2.add(Dense(128, activation='relu'))\n",
    "# model2.add(Dropout(0.3))\n",
    "model2.add(Dense(1, activation = 'sigmoid'))"
   ]
  },
  {
   "cell_type": "code",
   "execution_count": null,
   "metadata": {},
   "outputs": [],
   "source": [
    "model2.compile(optimizer = SGD(learning_rate = .001),\n",
    "              loss='binary_crossentropy',\n",
    "              metrics=['accuracy'])"
   ]
  },
  {
   "cell_type": "code",
   "execution_count": null,
   "metadata": {},
   "outputs": [],
   "source": [
    "epochs = 50\n",
    "steps_per_epoch = train_generator.n // batch_size\n",
    "validation_steps = test_generator.n // batch_size\n",
    "es = EarlyStopping(monitor='val_accuracy', patience=5, restore_best_weights=True)\n",
    "cb_list = [es]\n",
    "history2 = model2.fit(train_generator,\n",
    "                              steps_per_epoch = steps_per_epoch,\n",
    "                              epochs=epochs,\n",
    "                              validation_data=test_generator,\n",
    "                              validation_steps=validation_steps,\n",
    "                              callbacks = cb_list )"
   ]
  },
  {
   "cell_type": "code",
   "execution_count": null,
   "metadata": {},
   "outputs": [],
   "source": [
    "predictions = []\n",
    "for x in model2.predict(test_generator):\n",
    "    for z in x:\n",
    "        predictions.append(np.round(z))\n",
    "        \n",
    "metrics.confusion_matrix(test_generator.classes,predictions)"
   ]
  },
  {
   "cell_type": "markdown",
   "metadata": {},
   "source": [
    "Run with weights"
   ]
  },
  {
   "cell_type": "code",
   "execution_count": null,
   "metadata": {},
   "outputs": [],
   "source": []
  },
  {
   "cell_type": "markdown",
   "metadata": {},
   "source": [
    "Visualizing"
   ]
  },
  {
   "cell_type": "code",
   "execution_count": null,
   "metadata": {},
   "outputs": [],
   "source": [
    "def prepare_for_training(ds, cache=True, shuffle_buffer_size=1000):\n",
    "    # This is a small dataset, only load it once, and keep it in memory.\n",
    "    # use `.cache(filename)` to cache preprocessing work for datasets that don't\n",
    "    # fit in memory.\n",
    "    if cache:\n",
    "        if isinstance(cache, str):\n",
    "            ds = ds.cache(cache)\n",
    "        else:\n",
    "            ds = ds.cache()\n",
    "\n",
    "    ds = ds.shuffle(buffer_size=shuffle_buffer_size)\n",
    "\n",
    "    # Repeat forever\n",
    "    ds = ds.repeat()\n",
    "\n",
    "    ds = ds.batch(BATCH_SIZE)\n",
    "\n",
    "    # `prefetch` lets the dataset fetch batches in the background while the model\n",
    "    # is training.\n",
    "    ds = ds.prefetch(buffer_size=AUTOTUNE)\n",
    "\n",
    "    return ds"
   ]
  },
  {
   "cell_type": "code",
   "execution_count": null,
   "metadata": {},
   "outputs": [],
   "source": [
    "train_ds = prepare_for_training(train_ds)\n",
    "val_ds = prepare_for_training(val_ds)\n",
    "\n",
    "image_batch, label_batch = next(iter(train_ds))"
   ]
  },
  {
   "cell_type": "code",
   "execution_count": null,
   "metadata": {},
   "outputs": [],
   "source": [
    "def show_batch(image_batch, label_batch):\n",
    "    plt.figure(figsize=(10,10))\n",
    "    for n in range(25):\n",
    "        ax = plt.subplot(5,5,n+1)\n",
    "        plt.imshow(image_batch[n])\n",
    "        if label_batch[n]:\n",
    "            plt.title(\"PNEUMONIA\")\n",
    "        else:\n",
    "            plt.title(\"NORMAL\")\n",
    "        plt.axis(\"off\")"
   ]
  },
  {
   "cell_type": "code",
   "execution_count": null,
   "metadata": {},
   "outputs": [],
   "source": [
    "show_batch(image_batch.numpy(), label_batch.numpy())"
   ]
  },
  {
   "cell_type": "code",
   "execution_count": null,
   "metadata": {},
   "outputs": [],
   "source": []
  },
  {
   "cell_type": "markdown",
   "metadata": {},
   "source": [
    "-Rename model\n",
    "-create performance visualizations\n",
    "-explain layers of the model"
   ]
  },
  {
   "cell_type": "code",
   "execution_count": 5,
   "metadata": {},
   "outputs": [],
   "source": [
    "model = Sequential()"
   ]
  },
  {
   "cell_type": "code",
   "execution_count": 8,
   "metadata": {},
   "outputs": [
    {
     "name": "stdout",
     "output_type": "stream",
     "text": [
      "WARNING:tensorflow:From /opt/anaconda3/lib/python3.7/site-packages/tensorflow_core/python/ops/resource_variable_ops.py:1630: calling BaseResourceVariable.__init__ (from tensorflow.python.ops.resource_variable_ops) with constraint is deprecated and will be removed in a future version.\n",
      "Instructions for updating:\n",
      "If using Keras pass *_constraint arguments to layers.\n",
      "WARNING:tensorflow:From /opt/anaconda3/lib/python3.7/site-packages/keras/backend/tensorflow_backend.py:4070: The name tf.nn.max_pool is deprecated. Please use tf.nn.max_pool2d instead.\n",
      "\n",
      "WARNING:tensorflow:Large dropout rate: 0.6 (>0.5). In TensorFlow 2.x, dropout() uses dropout rate instead of keep_prob. Please ensure that this is intended.\n"
     ]
    }
   ],
   "source": [
    "model.add(Conv2D(16, kernel_size = (3, 3), activation='relu', input_shape=(image_size, image_size, 3)))\n",
    "model.add(MaxPooling2D(pool_size=(2,2)))\n",
    "model.add(BatchNormalization())\n",
    "\n",
    "model.add(Conv2D(32, kernel_size=(3,3), activation='relu'))\n",
    "model.add(MaxPooling2D(pool_size=(2,2)))\n",
    "model.add(BatchNormalization())\n",
    "\n",
    "model.add(Conv2D(64, kernel_size=(3,3), activation='relu'))\n",
    "model.add(MaxPooling2D(pool_size=(2,2)))\n",
    "model.add(BatchNormalization())\n",
    "model.add(Dropout(0.2))\n",
    "\n",
    "model.add(Conv2D(168, kernel_size=(3,3), activation='relu'))\n",
    "model.add(MaxPooling2D(pool_size=(2,2)))\n",
    "model.add(BatchNormalization())\n",
    "model.add(Dropout(0.2))\n",
    "\n",
    "model.add(Flatten())\n",
    "model.add(Dense(512, activation='relu'))\n",
    "model.add(BatchNormalization())\n",
    "model.add(Dropout(0.6))\n",
    "\n",
    "model.add(Dense(128, activation='relu'))\n",
    "model.add(BatchNormalization())\n",
    "model.add(Dropout(0.4))\n",
    "\n",
    "model.add(Dense(64, activation='relu'))\n",
    "model.add(BatchNormalization())\n",
    "model.add(Dropout(0.2))\n",
    "\n",
    "model.add(Dense(1, activation = 'sigmoid'))"
   ]
  },
  {
   "cell_type": "code",
   "execution_count": 9,
   "metadata": {},
   "outputs": [
    {
     "name": "stdout",
     "output_type": "stream",
     "text": [
      "WARNING:tensorflow:From /opt/anaconda3/lib/python3.7/site-packages/tensorflow_core/python/ops/nn_impl.py:183: where (from tensorflow.python.ops.array_ops) is deprecated and will be removed in a future version.\n",
      "Instructions for updating:\n",
      "Use tf.where in 2.0, which has the same broadcast rule as np.where\n"
     ]
    }
   ],
   "source": [
    "model.compile(optimizer = 'adam',\n",
    "              loss='binary_crossentropy',\n",
    "              metrics=['accuracy',keras.metrics.Recall(name='recall')])"
   ]
  },
  {
   "cell_type": "code",
   "execution_count": 10,
   "metadata": {},
   "outputs": [
    {
     "name": "stdout",
     "output_type": "stream",
     "text": [
      "WARNING:tensorflow:From /opt/anaconda3/lib/python3.7/site-packages/keras/backend/tensorflow_backend.py:422: The name tf.global_variables is deprecated. Please use tf.compat.v1.global_variables instead.\n",
      "\n",
      "Epoch 1/50\n",
      "81/81 [==============================] - 137s 2s/step - loss: 0.2143 - accuracy: 0.9121 - recall: 0.8275 - val_loss: 0.0064 - val_accuracy: 0.5938 - val_recall: 0.9018\n",
      "Epoch 2/50\n",
      "81/81 [==============================] - 132s 2s/step - loss: 0.1208 - accuracy: 0.9585 - recall: 0.9215 - val_loss: 0.0056 - val_accuracy: 0.5821 - val_recall: 0.9322\n",
      "Epoch 3/50\n",
      "81/81 [==============================] - 137s 2s/step - loss: 0.1006 - accuracy: 0.9674 - recall: 0.9397 - val_loss: 0.0018 - val_accuracy: 0.5821 - val_recall: 0.9446\n",
      "Epoch 4/50\n",
      "81/81 [==============================] - 139s 2s/step - loss: 0.0845 - accuracy: 0.9726 - recall: 0.9492 - val_loss: 0.0036 - val_accuracy: 0.5821 - val_recall: 0.9527\n",
      "Epoch 5/50\n",
      "81/81 [==============================] - 137s 2s/step - loss: 0.0630 - accuracy: 0.9798 - recall: 0.9561 - val_loss: 0.0016 - val_accuracy: 0.5821 - val_recall: 0.9588\n",
      "Epoch 6/50\n",
      "81/81 [==============================] - 146s 2s/step - loss: 0.0571 - accuracy: 0.9814 - recall: 0.9608 - val_loss: 3.8572 - val_accuracy: 0.5821 - val_recall: 0.9630\n",
      "Epoch 7/50\n",
      "81/81 [==============================] - 139s 2s/step - loss: 0.0622 - accuracy: 0.9780 - recall: 0.9641 - val_loss: 5.8405 - val_accuracy: 0.6571 - val_recall: 0.9653\n",
      "Epoch 8/50\n",
      "81/81 [==============================] - 147s 2s/step - loss: 0.0644 - accuracy: 0.9789 - recall: 0.9662 - val_loss: 4.7446 - val_accuracy: 0.7054 - val_recall: 0.9674\n",
      "Epoch 9/50\n",
      "81/81 [==============================] - 153s 2s/step - loss: 0.0429 - accuracy: 0.9851 - recall: 0.9682 - val_loss: 0.4930 - val_accuracy: 0.8804 - val_recall: 0.9691\n",
      "Epoch 10/50\n",
      "81/81 [==============================] - 146s 2s/step - loss: 0.0401 - accuracy: 0.9878 - recall: 0.9699 - val_loss: 0.0022 - val_accuracy: 0.6982 - val_recall: 0.9709\n",
      "Epoch 11/50\n",
      "81/81 [==============================] - 153s 2s/step - loss: 0.0418 - accuracy: 0.9852 - recall: 0.9716 - val_loss: 8.3604e-04 - val_accuracy: 0.5938 - val_recall: 0.9722\n",
      "Epoch 12/50\n",
      "81/81 [==============================] - 142s 2s/step - loss: 0.0275 - accuracy: 0.9913 - recall: 0.9730 - val_loss: 3.0005e-04 - val_accuracy: 0.5839 - val_recall: 0.9739\n",
      "Epoch 13/50\n",
      "81/81 [==============================] - 132s 2s/step - loss: 0.0348 - accuracy: 0.9872 - recall: 0.9744 - val_loss: 0.0375 - val_accuracy: 0.7286 - val_recall: 0.9749\n",
      "Epoch 14/50\n",
      "81/81 [==============================] - 131s 2s/step - loss: 0.0312 - accuracy: 0.9880 - recall: 0.9754 - val_loss: 9.4814e-05 - val_accuracy: 0.5875 - val_recall: 0.9759\n",
      "Epoch 15/50\n",
      "81/81 [==============================] - 131s 2s/step - loss: 0.0553 - accuracy: 0.9841 - recall: 0.9761 - val_loss: 0.2595 - val_accuracy: 0.8018 - val_recall: 0.9758\n",
      "Epoch 16/50\n",
      "81/81 [==============================] - 3422s 42s/step - loss: 0.0360 - accuracy: 0.9859 - recall: 0.9759 - val_loss: 0.7979 - val_accuracy: 0.8571 - val_recall: 0.9760\n",
      "Epoch 17/50\n",
      "81/81 [==============================] - 5401s 67s/step - loss: 0.0285 - accuracy: 0.9885 - recall: 0.9762 - val_loss: 0.0035 - val_accuracy: 0.3875 - val_recall: 0.9731\n",
      "Epoch 18/50\n",
      "81/81 [==============================] - 116s 1s/step - loss: 0.0319 - accuracy: 0.9901 - recall: 0.9722 - val_loss: 4.3922 - val_accuracy: 0.7321 - val_recall: 0.9728\n",
      "Epoch 19/50\n",
      "81/81 [==============================] - 115s 1s/step - loss: 0.0215 - accuracy: 0.9930 - recall: 0.9734 - val_loss: 5.9310 - val_accuracy: 0.6982 - val_recall: 0.9739\n"
     ]
    }
   ],
   "source": [
    "epochs = 50\n",
    "steps_per_epoch = train_generator.n // batch_size\n",
    "validation_steps = test_generator.n // batch_size\n",
    "es = EarlyStopping(monitor='val_accuracy', patience=10, restore_best_weights=True)\n",
    "checkpoint_cb = ModelCheckpoint(\"pneu_model2.h5\",\n",
    "                                                    save_best_only=True)\n",
    "cb_list = [es,checkpoint_cb]\n",
    "history = model.fit(train_generator,\n",
    "                              steps_per_epoch=steps_per_epoch,\n",
    "                              epochs=epochs,\n",
    "                              validation_data=test_generator,\n",
    "                              validation_steps=validation_steps,\n",
    "                              class_weight=class_weight,\n",
    "                              callbacks=cb_list)"
   ]
  },
  {
   "cell_type": "code",
   "execution_count": 11,
   "metadata": {},
   "outputs": [],
   "source": [
    "model.save('pneu_model2.h5')"
   ]
  },
  {
   "cell_type": "code",
   "execution_count": 12,
   "metadata": {},
   "outputs": [
    {
     "name": "stdout",
     "output_type": "stream",
     "text": [
      "10/10 [==============================] - 7s 698ms/step - loss: 6.6800 - acc: 0.6250 - recall: 1.0000\n"
     ]
    }
   ],
   "source": [
    "loss, acc, rec = model.evaluate(test_generator)"
   ]
  },
  {
   "cell_type": "code",
   "execution_count": 29,
   "metadata": {},
   "outputs": [
    {
     "data": {
      "text/plain": [
       "0.9826623201370239"
      ]
     },
     "execution_count": 29,
     "metadata": {},
     "output_type": "execute_result"
    }
   ],
   "source": [
    "rec"
   ]
  },
  {
   "cell_type": "code",
   "execution_count": 30,
   "metadata": {},
   "outputs": [
    {
     "data": {
      "text/plain": [
       "0.8573718070983887"
      ]
     },
     "execution_count": 30,
     "metadata": {},
     "output_type": "execute_result"
    }
   ],
   "source": [
    "acc"
   ]
  },
  {
   "cell_type": "code",
   "execution_count": 11,
   "metadata": {},
   "outputs": [
    {
     "data": {
      "text/plain": [
       "array([[  0, 234],\n",
       "       [  0, 390]])"
      ]
     },
     "execution_count": 11,
     "metadata": {},
     "output_type": "execute_result"
    }
   ],
   "source": [
    "predictions = []\n",
    "for x in model.predict(test_generator):\n",
    "    for z in x:\n",
    "        predictions.append(np.round(z))\n",
    "        \n",
    "metrics.confusion_matrix(test_generator.classes,predictions)"
   ]
  },
  {
   "cell_type": "code",
   "execution_count": 5,
   "metadata": {},
   "outputs": [
    {
     "name": "stdout",
     "output_type": "stream",
     "text": [
      "WARNING:tensorflow:From /opt/anaconda3/lib/python3.7/site-packages/tensorflow_core/python/ops/resource_variable_ops.py:1630: calling BaseResourceVariable.__init__ (from tensorflow.python.ops.resource_variable_ops) with constraint is deprecated and will be removed in a future version.\n",
      "Instructions for updating:\n",
      "If using Keras pass *_constraint arguments to layers.\n",
      "WARNING:tensorflow:Large dropout rate: 0.6 (>0.5). In TensorFlow 2.x, dropout() uses dropout rate instead of keep_prob. Please ensure that this is intended.\n",
      "WARNING:tensorflow:From /opt/anaconda3/lib/python3.7/site-packages/tensorflow_core/python/ops/nn_impl.py:183: where (from tensorflow.python.ops.array_ops) is deprecated and will be removed in a future version.\n",
      "Instructions for updating:\n",
      "Use tf.where in 2.0, which has the same broadcast rule as np.where\n"
     ]
    }
   ],
   "source": [
    "model = load_model('pneu_model2.h5')"
   ]
  },
  {
   "cell_type": "code",
   "execution_count": null,
   "metadata": {},
   "outputs": [],
   "source": []
  }
 ],
 "metadata": {
  "kernelspec": {
   "display_name": "Python 3",
   "language": "python",
   "name": "python3"
  },
  "language_info": {
   "codemirror_mode": {
    "name": "ipython",
    "version": 3
   },
   "file_extension": ".py",
   "mimetype": "text/x-python",
   "name": "python",
   "nbconvert_exporter": "python",
   "pygments_lexer": "ipython3",
   "version": "3.7.4"
  }
 },
 "nbformat": 4,
 "nbformat_minor": 4
}
