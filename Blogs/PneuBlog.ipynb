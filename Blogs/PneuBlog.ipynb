{
 "cells": [
  {
   "cell_type": "code",
   "execution_count": 7,
   "metadata": {},
   "outputs": [],
   "source": [
    "from __future__ import absolute_import, division, print_function, unicode_literals\n",
    "import os\n",
    "from matplotlib import pyplot as plt\n",
    "import numpy as np\n",
    "from sklearn.model_selection import train_test_split\n",
    "from sklearn import metrics\n",
    "from sklearn.preprocessing import StandardScaler\n",
    "%matplotlib inline\n",
    "\n",
    "import tensorflow as tf\n",
    "from tensorflow import keras\n",
    "import matplotlib.image as mpimg\n",
    "from keras import Sequential\n",
    "from keras.layers import Conv2D,Dense,MaxPooling2D,BatchNormalization,Flatten,Dropout\n",
    "from keras.optimizers import Adam, SGD\n",
    "from keras.callbacks import EarlyStopping"
   ]
  },
  {
   "cell_type": "code",
   "execution_count": 8,
   "metadata": {},
   "outputs": [],
   "source": [
    "base_dir, _ = os.path.splitext(\"../../Downloads/chest_xray\")"
   ]
  },
  {
   "cell_type": "code",
   "execution_count": 9,
   "metadata": {},
   "outputs": [
    {
     "name": "stdout",
     "output_type": "stream",
     "text": [
      "Total training normal images: 1341\n",
      "Total training pneu images: 3875\n",
      "Total validation normal images: 8\n",
      "Total validation pneu images: 8\n",
      "Total test normal images: 234\n",
      "Total test pneu images: 390\n"
     ]
    }
   ],
   "source": [
    "train_dir = os.path.join(base_dir, 'train')\n",
    "validation_dir = os.path.join(base_dir, 'val')\n",
    "\n",
    "train_normal = os.path.join(train_dir, 'NORMAL')\n",
    "print ('Total training normal images:', len(os.listdir(train_normal)))\n",
    "train_pneu = os.path.join(train_dir, 'PNEUMONIA')\n",
    "print ('Total training pneu images:', len(os.listdir(train_pneu)))\n",
    "\n",
    "val_normal = os.path.join(validation_dir, 'NORMAL')\n",
    "print ('Total validation normal images:', len(os.listdir(val_normal)))\n",
    "val_pneu = os.path.join(validation_dir, 'PNEUMONIA')\n",
    "print ('Total validation pneu images:', len(os.listdir(val_pneu)))\n",
    "\n",
    "test_dir = os.path.join(base_dir,'test')\n",
    "test_normal = os.path.join(test_dir, 'NORMAL')\n",
    "print ('Total test normal images:', len(os.listdir(test_normal)))\n",
    "test_pneu = os.path.join(test_dir, 'PNEUMONIA')\n",
    "print ('Total test pneu images:', len(os.listdir(test_pneu)))"
   ]
  },
  {
   "cell_type": "code",
   "execution_count": 10,
   "metadata": {},
   "outputs": [
    {
     "data": {
      "text/plain": [
       "{0: 1.9448173005219984, 1: 0.6730322580645162}"
      ]
     },
     "execution_count": 10,
     "metadata": {},
     "output_type": "execute_result"
    }
   ],
   "source": [
    "weight_norm = (1 / len(os.listdir(train_normal)))*(len(os.listdir(train_normal))+len(os.listdir(train_pneu)))/2.0 \n",
    "weight_pneu = (1 / len(os.listdir(train_pneu)))*(len(os.listdir(train_normal))+len(os.listdir(train_pneu)))/2.0\n",
    "class_weight = {0: weight_norm, 1: weight_pneu}\n",
    "class_weight"
   ]
  },
  {
   "cell_type": "code",
   "execution_count": 11,
   "metadata": {},
   "outputs": [
    {
     "name": "stdout",
     "output_type": "stream",
     "text": [
      "Found 5216 images belonging to 2 classes.\n",
      "Found 16 images belonging to 2 classes.\n",
      "Found 624 images belonging to 2 classes.\n"
     ]
    }
   ],
   "source": [
    "image_size = 224 # All images will be resized to 160x160\n",
    "batch_size = 64\n",
    "\n",
    "# Rescale all images by 1./255 and apply image augmentation\n",
    "train_datagen = keras.preprocessing.image.ImageDataGenerator(rescale=1./255)\n",
    "\n",
    "validation_datagen = keras.preprocessing.image.ImageDataGenerator(rescale=1./255)\n",
    "test_datagen = keras.preprocessing.image.ImageDataGenerator(rescale=1./255)\n",
    "\n",
    "# Flow training images in batches of 20 using train_datagen generator\n",
    "train_generator = train_datagen.flow_from_directory(\n",
    "                train_dir,  # Source directory for the training images\n",
    "                target_size=(image_size, image_size),\n",
    "                batch_size=batch_size,\n",
    "                # Since we use binary_crossentropy loss, we need binary labels\n",
    "                class_mode='binary')\n",
    "\n",
    "# Flow validation images in batches of 20 using test_datagen generator\n",
    "validation_generator = validation_datagen.flow_from_directory(\n",
    "                validation_dir, # Source directory for the validation images\n",
    "                target_size=(image_size, image_size),\n",
    "                batch_size=batch_size,\n",
    "                class_mode='binary')\n",
    "\n",
    "# Flow validation images in batches of 20 using test_datagen generator\n",
    "test_generator = test_datagen.flow_from_directory(\n",
    "                test_dir, # Source directory for the validation images\n",
    "                target_size=(image_size, image_size),\n",
    "                batch_size=batch_size,\n",
    "                class_mode='binary',\n",
    "                shuffle=False)"
   ]
  },
  {
   "cell_type": "code",
   "execution_count": 6,
   "metadata": {},
   "outputs": [
    {
     "name": "stdout",
     "output_type": "stream",
     "text": [
      "WARNING:tensorflow:From /opt/anaconda3/lib/python3.7/site-packages/tensorflow_core/python/ops/resource_variable_ops.py:1630: calling BaseResourceVariable.__init__ (from tensorflow.python.ops.resource_variable_ops) with constraint is deprecated and will be removed in a future version.\n",
      "Instructions for updating:\n",
      "If using Keras pass *_constraint arguments to layers.\n",
      "Number of layers in the base model:  155\n"
     ]
    }
   ],
   "source": [
    "IMG_SHAPE = (image_size, image_size, 3)\n",
    "\n",
    "# Create the base model from the pre-trained model MobileNet V2\n",
    "base_model = tf.keras.applications.MobileNetV2(input_shape=IMG_SHAPE,\n",
    "                                               include_top=False,\n",
    "                                               weights='imagenet')\n",
    "\n",
    "print(\"Number of layers in the base model: \", len(base_model.layers))"
   ]
  },
  {
   "cell_type": "code",
   "execution_count": null,
   "metadata": {},
   "outputs": [],
   "source": [
    "base_model.trainable = True"
   ]
  },
  {
   "cell_type": "code",
   "execution_count": null,
   "metadata": {},
   "outputs": [],
   "source": [
    "# Fine tune from this layer onwards\n",
    "fine_tune_at = 120\n",
    "\n",
    "# Freeze all the layers before the `fine_tune_at` layer\n",
    "for layer in base_model.layers[:fine_tune_at]:\n",
    "  layer.trainable =  False"
   ]
  },
  {
   "cell_type": "code",
   "execution_count": null,
   "metadata": {},
   "outputs": [],
   "source": [
    "model = tf.keras.Sequential([\n",
    "  base_model,\n",
    "  keras.layers.GlobalAveragePooling2D(),\n",
    "  keras.layers.Dropout(.3),\n",
    "  keras.layers.Dense(1, activation='sigmoid')\n",
    "    \n",
    "])"
   ]
  },
  {
   "cell_type": "code",
   "execution_count": null,
   "metadata": {},
   "outputs": [],
   "source": [
    "model2 = Sequential()"
   ]
  },
  {
   "cell_type": "code",
   "execution_count": null,
   "metadata": {},
   "outputs": [],
   "source": [
    "model2.add(Conv2D(32, kernel_size = (3, 3), activation='relu', input_shape=(image_size, image_size, 3)))\n",
    "model2.add(MaxPooling2D(pool_size=(2,2)))\n",
    "model2.add(BatchNormalization())\n",
    "\n",
    "model2.add(Conv2D(64, kernel_size=(3,3), activation='relu'))\n",
    "model2.add(MaxPooling2D(pool_size=(2,2)))\n",
    "model2.add(BatchNormalization())\n",
    "\n",
    "model2.add(Conv2D(64, kernel_size=(3,3), activation='relu'))\n",
    "model2.add(MaxPooling2D(pool_size=(2,2)))\n",
    "model2.add(BatchNormalization())\n",
    "\n",
    "\n",
    "model2.add(Conv2D(96, kernel_size=(3,3), activation='relu'))\n",
    "model2.add(MaxPooling2D(pool_size=(2,2)))\n",
    "model2.add(BatchNormalization())\n",
    "model2.add(Dropout(.3))\n",
    "\n",
    "\n",
    "model2.add(Conv2D(32, kernel_size=(3,3), activation='relu'))\n",
    "model2.add(MaxPooling2D(pool_size=(2,2)))\n",
    "model2.add(BatchNormalization())\n",
    "model2.add(Dropout(0.4))\n",
    "\n",
    "model2.add(Flatten())\n",
    "model2.add(Dense(128, activation='relu'))\n",
    "# model2.add(Dropout(0.3))\n",
    "model2.add(Dense(1, activation = 'sigmoid'))"
   ]
  },
  {
   "cell_type": "code",
   "execution_count": null,
   "metadata": {},
   "outputs": [],
   "source": [
    "model2.compile(optimizer = SGD(learning_rate = .001),\n",
    "              loss='binary_crossentropy',\n",
    "              metrics=['accuracy'])"
   ]
  },
  {
   "cell_type": "code",
   "execution_count": null,
   "metadata": {},
   "outputs": [],
   "source": [
    "epochs = 50\n",
    "steps_per_epoch = train_generator.n // batch_size\n",
    "validation_steps = test_generator.n // batch_size\n",
    "# lr = ReduceLROnPlateau(monitor='val_loss', factor=0.3, patience=2, verbose=2, mode='max')\n",
    "es = EarlyStopping(monitor='val_accuracy', patience=5, restore_best_weights=True)\n",
    "cb_list = [es]\n",
    "history2 = model2.fit(train_generator,\n",
    "                              steps_per_epoch = steps_per_epoch,\n",
    "                              epochs=epochs,\n",
    "                              validation_data=test_generator,\n",
    "                              validation_steps=validation_steps,\n",
    "                              callbacks = cb_list )"
   ]
  },
  {
   "cell_type": "code",
   "execution_count": null,
   "metadata": {},
   "outputs": [],
   "source": [
    "predictions = []\n",
    "for x in model2.predict(test_generator):\n",
    "    for z in x:\n",
    "        predictions.append(np.round(z))\n",
    "        \n",
    "metrics.confusion_matrix(test_generator.classes,predictions)"
   ]
  },
  {
   "cell_type": "markdown",
   "metadata": {},
   "source": [
    "Run with weights"
   ]
  },
  {
   "cell_type": "code",
   "execution_count": null,
   "metadata": {},
   "outputs": [],
   "source": []
  },
  {
   "cell_type": "markdown",
   "metadata": {},
   "source": [
    "Visualizing"
   ]
  },
  {
   "cell_type": "code",
   "execution_count": null,
   "metadata": {},
   "outputs": [],
   "source": [
    "def prepare_for_training(ds, cache=True, shuffle_buffer_size=1000):\n",
    "    # This is a small dataset, only load it once, and keep it in memory.\n",
    "    # use `.cache(filename)` to cache preprocessing work for datasets that don't\n",
    "    # fit in memory.\n",
    "    if cache:\n",
    "        if isinstance(cache, str):\n",
    "            ds = ds.cache(cache)\n",
    "        else:\n",
    "            ds = ds.cache()\n",
    "\n",
    "    ds = ds.shuffle(buffer_size=shuffle_buffer_size)\n",
    "\n",
    "    # Repeat forever\n",
    "    ds = ds.repeat()\n",
    "\n",
    "    ds = ds.batch(BATCH_SIZE)\n",
    "\n",
    "    # `prefetch` lets the dataset fetch batches in the background while the model\n",
    "    # is training.\n",
    "    ds = ds.prefetch(buffer_size=AUTOTUNE)\n",
    "\n",
    "    return ds"
   ]
  },
  {
   "cell_type": "code",
   "execution_count": null,
   "metadata": {},
   "outputs": [],
   "source": [
    "train_ds = prepare_for_training(train_ds)\n",
    "val_ds = prepare_for_training(val_ds)\n",
    "\n",
    "image_batch, label_batch = next(iter(train_ds))"
   ]
  },
  {
   "cell_type": "code",
   "execution_count": null,
   "metadata": {},
   "outputs": [],
   "source": [
    "def show_batch(image_batch, label_batch):\n",
    "    plt.figure(figsize=(10,10))\n",
    "    for n in range(25):\n",
    "        ax = plt.subplot(5,5,n+1)\n",
    "        plt.imshow(image_batch[n])\n",
    "        if label_batch[n]:\n",
    "            plt.title(\"PNEUMONIA\")\n",
    "        else:\n",
    "            plt.title(\"NORMAL\")\n",
    "        plt.axis(\"off\")"
   ]
  },
  {
   "cell_type": "code",
   "execution_count": null,
   "metadata": {},
   "outputs": [],
   "source": [
    "show_batch(image_batch.numpy(), label_batch.numpy())"
   ]
  },
  {
   "cell_type": "code",
   "execution_count": null,
   "metadata": {},
   "outputs": [],
   "source": []
  },
  {
   "cell_type": "markdown",
   "metadata": {},
   "source": [
    "-Rename model\n",
    "-create performance visualizations\n",
    "-explain layers of the model"
   ]
  },
  {
   "cell_type": "code",
   "execution_count": 12,
   "metadata": {},
   "outputs": [],
   "source": [
    "model = Sequential()"
   ]
  },
  {
   "cell_type": "code",
   "execution_count": 13,
   "metadata": {},
   "outputs": [
    {
     "name": "stdout",
     "output_type": "stream",
     "text": [
      "WARNING:tensorflow:From /opt/anaconda3/lib/python3.7/site-packages/tensorflow_core/python/ops/resource_variable_ops.py:1630: calling BaseResourceVariable.__init__ (from tensorflow.python.ops.resource_variable_ops) with constraint is deprecated and will be removed in a future version.\n",
      "Instructions for updating:\n",
      "If using Keras pass *_constraint arguments to layers.\n",
      "WARNING:tensorflow:From /opt/anaconda3/lib/python3.7/site-packages/keras/backend/tensorflow_backend.py:4070: The name tf.nn.max_pool is deprecated. Please use tf.nn.max_pool2d instead.\n",
      "\n"
     ]
    }
   ],
   "source": [
    "model.add(Conv2D(16, kernel_size = (3, 3), activation='relu', input_shape=(image_size, image_size, 3)))\n",
    "model.add(MaxPooling2D(pool_size=(2,2)))\n",
    "model.add(BatchNormalization())\n",
    "\n",
    "model.add(Conv2D(32, kernel_size=(3,3), activation='relu'))\n",
    "model.add(MaxPooling2D(pool_size=(2,2)))\n",
    "model.add(BatchNormalization())\n",
    "\n",
    "model.add(Conv2D(64, kernel_size=(3,3), activation='relu'))\n",
    "model.add(MaxPooling2D(pool_size=(2,2)))\n",
    "model.add(BatchNormalization())\n",
    "model.add(Dropout(0.2))\n",
    "\n",
    "model.add(Conv2D(168, kernel_size=(3,3), activation='relu'))\n",
    "model.add(MaxPooling2D(pool_size=(2,2)))\n",
    "model.add(BatchNormalization())\n",
    "model.add(Dropout(0.2))\n",
    "\n",
    "model.add(Flatten())\n",
    "model.add(Dense(512, activation='relu'))\n",
    "model.add(BatchNormalization())\n",
    "model.add(Dropout(0.6))\n",
    "model.add(Dense(128, activation='relu'))\n",
    "model.add(BatchNormalization())\n",
    "model.add(Dropout(0.4))\n",
    "model.add(Dense(64, activation='relu'))\n",
    "model.add(BatchNormalization())\n",
    "model.add(Dropout(0.2))\n",
    "\n",
    "model.add(Dense(1, activation = 'sigmoid'))"
   ]
  },
  {
   "cell_type": "code",
   "execution_count": 14,
   "metadata": {},
   "outputs": [
    {
     "name": "stdout",
     "output_type": "stream",
     "text": [
      "WARNING:tensorflow:From /opt/anaconda3/lib/python3.7/site-packages/tensorflow_core/python/ops/nn_impl.py:183: where (from tensorflow.python.ops.array_ops) is deprecated and will be removed in a future version.\n",
      "Instructions for updating:\n",
      "Use tf.where in 2.0, which has the same broadcast rule as np.where\n"
     ]
    }
   ],
   "source": [
    "model.compile(optimizer = 'adam',\n",
    "              loss='binary_crossentropy',\n",
    "              metrics=['accuracy',keras.metrics.Recall(name='recall')])"
   ]
  },
  {
   "cell_type": "code",
   "execution_count": 20,
   "metadata": {},
   "outputs": [
    {
     "name": "stdout",
     "output_type": "stream",
     "text": [
      "Epoch 1/25\n",
      "81/81 [==============================] - 116s 1s/step - loss: 2.8577e-04 - accuracy: 1.0000 - recall: 0.9939 - val_loss: 8.8749e-07 - val_accuracy: 0.7222 - val_recall: 0.9939\n",
      "Epoch 2/25\n",
      "81/81 [==============================] - 116s 1s/step - loss: 4.0637e-04 - accuracy: 0.9998 - recall: 0.9939 - val_loss: 1.1605e-04 - val_accuracy: 0.7304 - val_recall: 0.9940\n",
      "Epoch 3/25\n",
      "81/81 [==============================] - 119s 1s/step - loss: 4.3559e-05 - accuracy: 1.0000 - recall: 0.9940 - val_loss: 0.0789 - val_accuracy: 0.7304 - val_recall: 0.9940\n",
      "Epoch 4/25\n",
      "81/81 [==============================] - 123s 2s/step - loss: 2.1760e-05 - accuracy: 1.0000 - recall: 0.9941 - val_loss: 3.5115e-04 - val_accuracy: 0.7357 - val_recall: 0.9941\n",
      "Epoch 5/25\n",
      "81/81 [==============================] - 126s 2s/step - loss: 3.1674e-05 - accuracy: 1.0000 - recall: 0.9941 - val_loss: 1.7742e-07 - val_accuracy: 0.7446 - val_recall: 0.9942\n",
      "Epoch 6/25\n",
      "81/81 [==============================] - 126s 2s/step - loss: 1.0811e-04 - accuracy: 1.0000 - recall: 0.9942 - val_loss: 7.8933 - val_accuracy: 0.7304 - val_recall: 0.9942\n",
      "Epoch 7/25\n",
      "81/81 [==============================] - 127s 2s/step - loss: 1.2383e-04 - accuracy: 1.0000 - recall: 0.9943 - val_loss: 9.9277 - val_accuracy: 0.8143 - val_recall: 0.9943\n",
      "Epoch 8/25\n",
      "81/81 [==============================] - 120s 1s/step - loss: 0.0026 - accuracy: 0.9994 - recall: 0.9943 - val_loss: 7.9082 - val_accuracy: 0.7982 - val_recall: 0.9944\n",
      "Epoch 9/25\n",
      "81/81 [==============================] - 119s 1s/step - loss: 2.8636e-04 - accuracy: 1.0000 - recall: 0.9944 - val_loss: 4.7639 - val_accuracy: 0.8089 - val_recall: 0.9944\n",
      "Epoch 10/25\n",
      "81/81 [==============================] - 122s 2s/step - loss: 6.1179e-04 - accuracy: 0.9996 - recall: 0.9945 - val_loss: 1.7484e-04 - val_accuracy: 0.7750 - val_recall: 0.9945\n",
      "Epoch 11/25\n",
      "81/81 [==============================] - 121s 1s/step - loss: 9.5093e-04 - accuracy: 0.9998 - recall: 0.9945 - val_loss: 6.5750e-08 - val_accuracy: 0.7674 - val_recall: 0.9945\n",
      "Epoch 12/25\n",
      "81/81 [==============================] - 124s 2s/step - loss: 0.0045 - accuracy: 0.9986 - recall: 0.9946 - val_loss: 0.0193 - val_accuracy: 0.7768 - val_recall: 0.9946\n",
      "Epoch 13/25\n",
      "81/81 [==============================] - 122s 2s/step - loss: 3.5918e-04 - accuracy: 1.0000 - recall: 0.9946 - val_loss: 0.2085 - val_accuracy: 0.7339 - val_recall: 0.9946\n",
      "Epoch 14/25\n",
      "81/81 [==============================] - 124s 2s/step - loss: 0.0143 - accuracy: 0.9952 - recall: 0.9946 - val_loss: 0.1778 - val_accuracy: 0.7232 - val_recall: 0.9946\n",
      "Epoch 15/25\n",
      "81/81 [==============================] - 127s 2s/step - loss: 0.0075 - accuracy: 0.9979 - recall: 0.9946 - val_loss: 8.7266e-05 - val_accuracy: 0.7589 - val_recall: 0.9946\n",
      "Epoch 16/25\n",
      "81/81 [==============================] - 132s 2s/step - loss: 0.0167 - accuracy: 0.9943 - recall: 0.9946 - val_loss: 3.8077 - val_accuracy: 0.8196 - val_recall: 0.9946\n",
      "Epoch 17/25\n",
      "81/81 [==============================] - 131s 2s/step - loss: 0.0073 - accuracy: 0.9977 - recall: 0.9946 - val_loss: 8.0711 - val_accuracy: 0.7804 - val_recall: 0.9947\n",
      "Epoch 18/25\n",
      "81/81 [==============================] - 126s 2s/step - loss: 0.0092 - accuracy: 0.9969 - recall: 0.9947 - val_loss: 18.8064 - val_accuracy: 0.7000 - val_recall: 0.9947\n",
      "Epoch 19/25\n",
      "81/81 [==============================] - 128s 2s/step - loss: 0.0206 - accuracy: 0.9932 - recall: 0.9947 - val_loss: 1.5850 - val_accuracy: 0.8464 - val_recall: 0.9947\n",
      "Epoch 20/25\n",
      "81/81 [==============================] - 126s 2s/step - loss: 0.0071 - accuracy: 0.9977 - recall: 0.9947 - val_loss: 0.0882 - val_accuracy: 0.7875 - val_recall: 0.9947\n",
      "Epoch 21/25\n",
      "81/81 [==============================] - 128s 2s/step - loss: 0.0018 - accuracy: 0.9996 - recall: 0.9947 - val_loss: 3.6308e-07 - val_accuracy: 0.7726 - val_recall: 0.9947\n",
      "Epoch 22/25\n",
      "81/81 [==============================] - 136s 2s/step - loss: 0.0070 - accuracy: 0.9961 - recall: 0.9947 - val_loss: 2.9517e-14 - val_accuracy: 0.6321 - val_recall: 0.9947\n",
      "Epoch 23/25\n",
      "81/81 [==============================] - 140s 2s/step - loss: 0.0017 - accuracy: 0.9992 - recall: 0.9948 - val_loss: 0.0922 - val_accuracy: 0.7696 - val_recall: 0.9948\n",
      "Epoch 24/25\n",
      "81/81 [==============================] - 139s 2s/step - loss: 7.6924e-04 - accuracy: 0.9996 - recall: 0.9948 - val_loss: 5.2179e-08 - val_accuracy: 0.7357 - val_recall: 0.9948\n",
      "Epoch 25/25\n",
      "81/81 [==============================] - 138s 2s/step - loss: 2.7402e-05 - accuracy: 1.0000 - recall: 0.9948 - val_loss: 1.1907e-10 - val_accuracy: 0.7411 - val_recall: 0.9949\n"
     ]
    }
   ],
   "source": [
    "epochs = 25\n",
    "steps_per_epoch = train_generator.n // batch_size\n",
    "validation_steps = test_generator.n // batch_size\n",
    "history = model.fit(train_generator,\n",
    "                              steps_per_epoch=steps_per_epoch,\n",
    "                              epochs=epochs,\n",
    "                              validation_data=test_generator,\n",
    "                              validation_steps=validation_steps,\n",
    "                              class_weight=class_weight)"
   ]
  },
  {
   "cell_type": "code",
   "execution_count": 19,
   "metadata": {},
   "outputs": [],
   "source": [
    "model.save('pneu_model2.h5')"
   ]
  },
  {
   "cell_type": "code",
   "execution_count": null,
   "metadata": {},
   "outputs": [],
   "source": [
    "#checkpoint_cb = tf.keras.callbacks.ModelCheckpoint(\"pneu_model.h5\",\n",
    "#                                                    save_best_only=True)"
   ]
  },
  {
   "cell_type": "code",
   "execution_count": null,
   "metadata": {},
   "outputs": [],
   "source": [
    "#callbacks=[checkpoint_cb"
   ]
  },
  {
   "cell_type": "code",
   "execution_count": null,
   "metadata": {},
   "outputs": [],
   "source": []
  }
 ],
 "metadata": {
  "kernelspec": {
   "display_name": "Python 3",
   "language": "python",
   "name": "python3"
  },
  "language_info": {
   "codemirror_mode": {
    "name": "ipython",
    "version": 3
   },
   "file_extension": ".py",
   "mimetype": "text/x-python",
   "name": "python",
   "nbconvert_exporter": "python",
   "pygments_lexer": "ipython3",
   "version": "3.7.4"
  }
 },
 "nbformat": 4,
 "nbformat_minor": 4
}
