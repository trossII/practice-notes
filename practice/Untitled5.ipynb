{
 "cells": [
  {
   "cell_type": "markdown",
   "metadata": {},
   "source": [
    "The rgb function is incomplete. Complete it so that passing in RGB decimal values will result in a hexadecimal representation being returned. Valid decimal values for RGB are 0 - 255. Any values that fall out of that range must be rounded to the closest valid value.\n",
    "\n",
    "Note: Your answer should always be 6 characters long, the shorthand with 3 will not work here.\n",
    "\n",
    "The following are examples of expected output values:\n",
    "rgb(255, 255, 255) # returns FFFFFF\n",
    "rgb(255, 255, 300) # returns FFFFFF\n",
    "rgb(0,0,0) # returns 000000\n",
    "rgb(148, 0, 211) # returns 9400D3"
   ]
  },
  {
   "cell_type": "code",
   "execution_count": 7,
   "metadata": {},
   "outputs": [
    {
     "data": {
      "text/plain": [
       "'9400D3'"
      ]
     },
     "execution_count": 7,
     "metadata": {},
     "output_type": "execute_result"
    }
   ],
   "source": [
    "'%02x%02x%02x'.upper() % (148, 0, 211)"
   ]
  },
  {
   "cell_type": "code",
   "execution_count": 16,
   "metadata": {},
   "outputs": [],
   "source": [
    "def rgb(r,g,b):\n",
    "    if r>255:\n",
    "        r=255\n",
    "    elif r<0:\n",
    "        r=0\n",
    "    else:\n",
    "        r=r\n",
    "    if g>255:\n",
    "        g=255\n",
    "    elif g<0:\n",
    "        g=0\n",
    "    else:\n",
    "        g=g\n",
    "    if b>255:\n",
    "        b=255\n",
    "    elif b<0:\n",
    "        b=0\n",
    "    else:\n",
    "        b=b\n",
    "    return '%02x%02x%02x'.upper() % (r,g,b)    "
   ]
  },
  {
   "cell_type": "code",
   "execution_count": 19,
   "metadata": {},
   "outputs": [
    {
     "data": {
      "text/plain": [
       "'00FF7D'"
      ]
     },
     "execution_count": 19,
     "metadata": {},
     "output_type": "execute_result"
    }
   ],
   "source": [
    "rgb(-20,275,125)"
   ]
  },
  {
   "cell_type": "markdown",
   "metadata": {},
   "source": [
    "Better practice would be to define another function that limits the inputs of r,g,b instead of having multiple if statements."
   ]
  },
  {
   "cell_type": "code",
   "execution_count": 18,
   "metadata": {},
   "outputs": [],
   "source": [
    "def limit(num):\n",
    "    if num < 0:\n",
    "        return 0\n",
    "    if num > 255:\n",
    "        return 255\n",
    "    return num\n",
    "def rgb(r,g,b):\n",
    "    return '%02x%02x%02x'.upper() % (limit(r),limit(g),limit(b))  "
   ]
  },
  {
   "cell_type": "code",
   "execution_count": null,
   "metadata": {},
   "outputs": [],
   "source": []
  }
 ],
 "metadata": {
  "kernelspec": {
   "display_name": "Python 3",
   "language": "python",
   "name": "python3"
  },
  "language_info": {
   "codemirror_mode": {
    "name": "ipython",
    "version": 3
   },
   "file_extension": ".py",
   "mimetype": "text/x-python",
   "name": "python",
   "nbconvert_exporter": "python",
   "pygments_lexer": "ipython3",
   "version": "3.7.4"
  }
 },
 "nbformat": 4,
 "nbformat_minor": 4
}
