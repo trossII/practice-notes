{
 "cells": [
  {
   "cell_type": "code",
   "execution_count": 3,
   "metadata": {},
   "outputs": [],
   "source": [
    "import numpy as np"
   ]
  },
  {
   "cell_type": "code",
   "execution_count": 4,
   "metadata": {},
   "outputs": [],
   "source": [
    "def archimedes(tol):\n",
    "    n=6\n",
    "    pillow = 0\n",
    "    pihigh = 10\n",
    "    while pihigh - pillow > tol:\n",
    "        n+=1\n",
    "        pillow = n *np.sin(np.pi/n)\n",
    "        pihigh = n * np.tan(np.pi/n)\n",
    "    return np.average([pillow, pihigh]), n"
   ]
  },
  {
   "cell_type": "code",
   "execution_count": 5,
   "metadata": {},
   "outputs": [
    {
     "name": "stdout",
     "output_type": "stream",
     "text": [
      "1e-07\n",
      "3.1415926702542123\n",
      "12452\n"
     ]
    }
   ],
   "source": [
    "eps=1e-7\n",
    "val, sides = archimedes(eps)\n",
    "print(eps)\n",
    "print(val)\n",
    "print(sides)"
   ]
  },
  {
   "cell_type": "code",
   "execution_count": null,
   "metadata": {},
   "outputs": [],
   "source": []
  }
 ],
 "metadata": {
  "kernelspec": {
   "display_name": "Python 3",
   "language": "python",
   "name": "python3"
  },
  "language_info": {
   "codemirror_mode": {
    "name": "ipython",
    "version": 3
   },
   "file_extension": ".py",
   "mimetype": "text/x-python",
   "name": "python",
   "nbconvert_exporter": "python",
   "pygments_lexer": "ipython3",
   "version": "3.7.4"
  }
 },
 "nbformat": 4,
 "nbformat_minor": 4
}
