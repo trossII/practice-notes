{
 "cells": [
  {
   "cell_type": "code",
   "execution_count": 1,
   "metadata": {},
   "outputs": [],
   "source": [
    "from tweepy.streaming import StreamListener\n",
    "from tweepy import OAuthHandler\n",
    "from tweepy import Stream\n",
    "import datetime\n",
    "import csv"
   ]
  },
  {
   "cell_type": "code",
   "execution_count": 8,
   "metadata": {},
   "outputs": [],
   "source": [
    "class StdOutListener(StreamListener):\n",
    "    def on_status(self, status):\n",
    "        if (status.lang == \"en\") & (status.user.followers_count >= 500):\n",
    "# Altering tweet text so that it keeps to one line\n",
    "            text_for_output = \"'\" + status.text.replace('\\n', ' ') +\"'\"\n",
    "            csvw.writerow([status.id,\n",
    "                           status.user.screen_name,\n",
    "# Using datetime to parse it to just get date\n",
    "                           status.created_at.strftime('%m/%d/%y'),\n",
    "                           status.user.followers_count,\n",
    "                           text_for_output])\n",
    "            return True\n",
    "    def on_error(self, status_code):\n",
    "        if status_code == 420:\n",
    "    # Returning False in on_error disconnects the stream\n",
    "            return False"
   ]
  },
  {
   "cell_type": "code",
   "execution_count": null,
   "metadata": {},
   "outputs": [],
   "source": [
    "l = StdOutListener()\n",
    "auth = OAuthHandler(consumer_key, consumer_secret)\n",
    "auth.set_access_token(access_token, access_token_secret)\n",
    "stream = Stream(auth, l)"
   ]
  }
 ],
 "metadata": {
  "kernelspec": {
   "display_name": "Python 3",
   "language": "python",
   "name": "python3"
  },
  "language_info": {
   "codemirror_mode": {
    "name": "ipython",
    "version": 3
   },
   "file_extension": ".py",
   "mimetype": "text/x-python",
   "name": "python",
   "nbconvert_exporter": "python",
   "pygments_lexer": "ipython3",
   "version": "3.7.4"
  }
 },
 "nbformat": 4,
 "nbformat_minor": 4
}
