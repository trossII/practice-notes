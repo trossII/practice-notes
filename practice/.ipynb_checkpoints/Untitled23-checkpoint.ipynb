{
 "cells": [
  {
   "cell_type": "code",
   "execution_count": null,
   "metadata": {},
   "outputs": [],
   "source": [
    "def reducedict(D, keywords):\n",
    "    result={}\n",
    "    for (key,value) in D.items():\n",
    "        for text in keywords:\n",
    "            if text.lower() in key.lower():\n",
    "                result.update({key: value})\n",
    "                break\n",
    "    return result\n",
    "\n",
    "##break ends the current statement and resumes the previous statement once a condition is met, letting you loop multiple loops\n",
    "            \n",
    "            "
   ]
  },
  {
   "cell_type": "code",
   "execution_count": 1,
   "metadata": {},
   "outputs": [
    {
     "name": "stdout",
     "output_type": "stream",
     "text": [
      "t\n",
      "i\n",
      "m\n",
      "o\n",
      "loop ended\n"
     ]
    }
   ],
   "source": [
    "for letter in \"timothy\":\n",
    "    if letter == \"o\":\n",
    "        break\n",
    "    print(letter)\n",
    "print(\"loop ended\")\n"
   ]
  },
  {
   "cell_type": "code",
   "execution_count": 2,
   "metadata": {},
   "outputs": [
    {
     "name": "stdout",
     "output_type": "stream",
     "text": [
      "1\n",
      "2\n",
      "3\n",
      "4\n",
      "5\n",
      "6\n",
      "7\n",
      "8\n",
      "9\n",
      "10\n"
     ]
    }
   ],
   "source": [
    "n=0\n",
    "while n < 10:\n",
    "    n+=1\n",
    "    print(n)"
   ]
  },
  {
   "cell_type": "code",
   "execution_count": null,
   "metadata": {},
   "outputs": [],
   "source": []
  }
 ],
 "metadata": {
  "kernelspec": {
   "display_name": "Python 3",
   "language": "python",
   "name": "python3"
  },
  "language_info": {
   "codemirror_mode": {
    "name": "ipython",
    "version": 3
   },
   "file_extension": ".py",
   "mimetype": "text/x-python",
   "name": "python",
   "nbconvert_exporter": "python",
   "pygments_lexer": "ipython3",
   "version": "3.7.4"
  }
 },
 "nbformat": 4,
 "nbformat_minor": 4
}
