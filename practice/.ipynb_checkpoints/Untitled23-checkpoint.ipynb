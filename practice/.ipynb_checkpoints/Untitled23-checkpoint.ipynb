{
 "cells": [
  {
   "cell_type": "code",
   "execution_count": null,
   "metadata": {},
   "outputs": [],
   "source": [
    "def reducedict(D, keywords):\n",
    "    result={}\n",
    "    for (key,value) in D.items():\n",
    "        for text in keywords:\n",
    "            if text.lower() in key.lower():\n",
    "                result.update({key: value})\n",
    "                break\n",
    "    return result\n",
    "\n",
    "##break ends the current statement and resumes the previous statement once a condition is met, letting you loop multiple loops\n",
    "            \n",
    "            "
   ]
  }
 ],
 "metadata": {
  "kernelspec": {
   "display_name": "Python 3",
   "language": "python",
   "name": "python3"
  },
  "language_info": {
   "codemirror_mode": {
    "name": "ipython",
    "version": 3
   },
   "file_extension": ".py",
   "mimetype": "text/x-python",
   "name": "python",
   "nbconvert_exporter": "python",
   "pygments_lexer": "ipython3",
   "version": "3.7.4"
  }
 },
 "nbformat": 4,
 "nbformat_minor": 4
}
