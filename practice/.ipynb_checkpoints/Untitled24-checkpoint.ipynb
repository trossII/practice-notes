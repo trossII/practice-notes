{
 "cells": [
  {
   "cell_type": "markdown",
   "metadata": {},
   "source": [
    "Task: write a function to invert a dictionary!"
   ]
  },
  {
   "cell_type": "markdown",
   "metadata": {},
   "source": [
    "1) Check if D is dictionary\n",
    "2) Inverse Dictionary"
   ]
  },
  {
   "cell_type": "code",
   "execution_count": 4,
   "metadata": {},
   "outputs": [],
   "source": [
    "def invdict(D):\n",
    "    if isinstance(D,dict):\n",
    "        print(\"item is dictionary\")\n",
    "    else:\n",
    "        print(\"item is not a dictionary\")"
   ]
  },
  {
   "cell_type": "code",
   "execution_count": 2,
   "metadata": {},
   "outputs": [],
   "source": [
    "thisdict = {\n",
    "    \"dog\": \"perro\",\n",
    "    \"cat\": \"gato\",\n",
    "    \"chicken\": \"pollo\",\n",
    "    \"chicken\": \"pollo\"\n",
    "    \n",
    "}"
   ]
  },
  {
   "cell_type": "code",
   "execution_count": 35,
   "metadata": {},
   "outputs": [],
   "source": [
    "thisdict = (\n",
    "  \"dog\", \"perro\",\n",
    "  \"cat\", \"gato\",\n",
    "  \"chicken\", \"pollo\"\n",
    ")"
   ]
  },
  {
   "cell_type": "code",
   "execution_count": 3,
   "metadata": {},
   "outputs": [
    {
     "data": {
      "text/plain": [
       "{'perro': 'dog', 'gato': 'cat', 'pollo': 'chicken'}"
      ]
     },
     "execution_count": 3,
     "metadata": {},
     "output_type": "execute_result"
    }
   ],
   "source": [
    "invdict(thisdict)"
   ]
  },
  {
   "cell_type": "code",
   "execution_count": 9,
   "metadata": {},
   "outputs": [],
   "source": [
    "def invdict(D):\n",
    "    if isinstance(D,dict):\n",
    "        print(\"This is a dictionary\")\n",
    "    else:\n",
    "        raise Exception('This should be a dictionary')"
   ]
  },
  {
   "cell_type": "code",
   "execution_count": 34,
   "metadata": {},
   "outputs": [],
   "source": [
    "def invdict(D):\n",
    "    if isinstance(D,dict):\n",
    "        return dict(zip(D.values(), D.keys()))\n",
    "    else:\n",
    "        raise Exception('This should be a dictionary')"
   ]
  },
  {
   "cell_type": "code",
   "execution_count": 28,
   "metadata": {},
   "outputs": [],
   "source": [
    "def invdict(D):\n",
    "    if isinstance(D,dict):\n",
    "        return dict((v, k) for k, v in D.items())\n",
    "    else:\n",
    "        raise Exception('This should be a dictionary')"
   ]
  },
  {
   "cell_type": "code",
   "execution_count": 1,
   "metadata": {},
   "outputs": [],
   "source": [
    "def invdict(D):\n",
    "    if isinstance(D,dict):\n",
    "        return dict(map(reversed, D.items()))\n",
    "    else:\n",
    "        raise Exception('This should be a dictionary')"
   ]
  },
  {
   "cell_type": "code",
   "execution_count": 4,
   "metadata": {},
   "outputs": [
    {
     "ename": "SyntaxError",
     "evalue": "invalid syntax (<ipython-input-4-7b33e13106bf>, line 3)",
     "output_type": "error",
     "traceback": [
      "\u001b[0;36m  File \u001b[0;32m\"<ipython-input-4-7b33e13106bf>\"\u001b[0;36m, line \u001b[0;32m3\u001b[0m\n\u001b[0;31m    return dict(map(lamda k,v: v,k, D)))\u001b[0m\n\u001b[0m                          ^\u001b[0m\n\u001b[0;31mSyntaxError\u001b[0m\u001b[0;31m:\u001b[0m invalid syntax\n"
     ]
    }
   ],
   "source": [
    "\n",
    "#def invdict(D):\n",
    " #   if isinstance(D,dict):\n",
    "  #      return dict(map(lamda k,v: v,k, D)))\n",
    "   # else:\n",
    "    #    raise Exception('This should be a dictionary')"
   ]
  },
  {
   "cell_type": "markdown",
   "metadata": {},
   "source": [
    "Didn't figure out lambda"
   ]
  },
  {
   "cell_type": "code",
   "execution_count": null,
   "metadata": {},
   "outputs": [],
   "source": []
  }
 ],
 "metadata": {
  "kernelspec": {
   "display_name": "Python 3",
   "language": "python",
   "name": "python3"
  },
  "language_info": {
   "codemirror_mode": {
    "name": "ipython",
    "version": 3
   },
   "file_extension": ".py",
   "mimetype": "text/x-python",
   "name": "python",
   "nbconvert_exporter": "python",
   "pygments_lexer": "ipython3",
   "version": "3.7.4"
  }
 },
 "nbformat": 4,
 "nbformat_minor": 4
}
